{
 "cells": [
  {
   "cell_type": "code",
   "execution_count": 14,
   "metadata": {},
   "outputs": [],
   "source": [
    "from lxml import etree\n",
    "import cv2\n",
    "import numpy as np"
   ]
  },
  {
   "cell_type": "code",
   "execution_count": 15,
   "metadata": {},
   "outputs": [],
   "source": [
    "alto_elements = []\n",
    "xml_tree = etree.parse((\"105-Fg003-R-C01-R01-D03012012-T135030-LR924_012_F.xml_algn.xml\"))\n",
    "root = xml_tree.getroot()"
   ]
  },
  {
   "cell_type": "code",
   "execution_count": 16,
   "metadata": {},
   "outputs": [],
   "source": [
    "for elem in root.getiterator():\n",
    "    elem.tag = etree.QName(elem).localname"
   ]
  },
  {
   "cell_type": "code",
   "execution_count": 17,
   "metadata": {},
   "outputs": [],
   "source": [
    "def xml_to_coordinates(t):\n",
    "    result = []\n",
    "    data=t.split(' ')\n",
    "    for i,k in zip(data[0::2], data[1::2]):\n",
    "        result.append((int(i),int(k)))\n",
    "    result=np.array(result)\n",
    "    return result"
   ]
  },
  {
   "cell_type": "code",
   "execution_count": 18,
   "metadata": {},
   "outputs": [],
   "source": [
    "def centroid_from_coordinates(coords):\n",
    "    #the coords are ordered as counter clock wise\n",
    "    cx=int(coords[0][0]+(coords[2][0]-coords[0][0])/2)\n",
    "    cy=int(coords[1][1]+(coords[3][1]-coords[1][1])/2)\n",
    "    return (cx,cy)"
   ]
  },
  {
   "cell_type": "code",
   "execution_count": 19,
   "metadata": {},
   "outputs": [],
   "source": [
    "def inner_polygon_by_threshold(coords,thresh):\n",
    "    \n",
    "    x0=coords[0][0]+thresh\n",
    "    y0=coords[0][1]+thresh\n",
    "    \n",
    "    x1=coords[1][0]+thresh\n",
    "    y1=coords[1][1]-thresh\n",
    "    \n",
    "    x2=coords[2][0]-thresh\n",
    "    y2=coords[2][1]-thresh\n",
    "    \n",
    "    x3=coords[3][0]-thresh\n",
    "    y3=coords[3][1]+thresh\n",
    "    \n",
    "    inner_polygon=[[x0,y0],[x1,y1],[x2,y2],[x3,y3]]\n",
    "    \n",
    "    inner_polygon=np.array(inner_polygon)\n",
    "    \n",
    "    return inner_polygon"
   ]
  },
  {
   "cell_type": "code",
   "execution_count": 20,
   "metadata": {},
   "outputs": [],
   "source": [
    "def inner_polygon_by_percentage(coords,percent):\n",
    "    \n",
    "    x0=coords[0][0]\n",
    "    y0=coords[0][1]\n",
    "    \n",
    "    x1=coords[1][0]\n",
    "    y1=coords[1][1]\n",
    "    \n",
    "    x2=coords[2][0]\n",
    "    y2=coords[2][1]\n",
    "    \n",
    "    x3=coords[3][0]\n",
    "    y3=coords[3][1]\n",
    "    \n",
    "    ly=abs(y1-y0)\n",
    "    my=int(ly*percent/200)\n",
    "    \n",
    "    lx=abs(x2-x1)\n",
    "    mx=int(lx*percent/200)\n",
    "        \n",
    "    x0=coords[0][0]+mx\n",
    "    y0=coords[0][1]+my\n",
    "    \n",
    "    x1=coords[1][0]+mx\n",
    "    y1=coords[1][1]-my\n",
    "    \n",
    "    x2=coords[2][0]-mx\n",
    "    y2=coords[2][1]-my\n",
    "    \n",
    "    x3=coords[3][0]-mx\n",
    "    y3=coords[3][1]+my\n",
    "    \n",
    "    inner_polygon=[[x0,y0],[x1,y1],[x2,y2],[x3,y3]]\n",
    "    \n",
    "    inner_polygon=np.array(inner_polygon)\n",
    "    \n",
    "    return inner_polygon"
   ]
  },
  {
   "cell_type": "code",
   "execution_count": 21,
   "metadata": {},
   "outputs": [],
   "source": [
    "def create_circular_mask(h, w, center, radius):\n",
    "    Y, X = np.ogrid[:h, :w]\n",
    "    dist_from_center = np.sqrt((X - center[0])**2 + (Y-center[1])**2)\n",
    "    mask = dist_from_center <= radius\n",
    "    return mask"
   ]
  },
  {
   "cell_type": "code",
   "execution_count": 22,
   "metadata": {},
   "outputs": [],
   "source": [
    "fragment_image = cv2.imread(\"105-Fg003-R-C01-R01-D03012012-T135030-LR924_012_F.jpg\", 1)\n",
    "h,w,c= fragment_image.shape\n",
    "char_mask = np.zeros([h,w])\n",
    "line_mask = np.zeros([h,w])"
   ]
  },
  {
   "cell_type": "code",
   "execution_count": 23,
   "metadata": {},
   "outputs": [],
   "source": [
    "for line in root.findall(\"Layout/Page/PrintSpace/TextBlock/TextLine\"):  \n",
    "    for string in line.findall(\"String\"):\n",
    "        for glyph in string.findall(\"Glyph\"):\n",
    "            letter = glyph.get(\"CONTENT\")\n",
    "            if letter!=' ':\n",
    "                for shape in glyph.findall(\"Shape\"):\n",
    "                    for polygon in shape.findall(\"Polygon\"):\n",
    "                        polygon=polygon.get(\"POINTS\")\n",
    "                        coords=xml_to_coordinates(polygon)\n",
    "                        #cv2.drawContours(fragment_image, [coords], -1, (0, 0, 255), 3)\n",
    "                        #cv2.fillConvexPoly(line_mask, np.array(coords, 'int32'), 255)\n",
    "                        \n",
    "                        #inner_polygon_coords = inner_polygon(coords,40)\n",
    "                        #cv2.drawContours(fragment_image, [inner_polygon_coords], -1, (0, 255, 0), 1)\n",
    "                        #cv2.fillConvexPoly(char_mask, np.array(inner_polygon_coords, 'int32'), 255)\n",
    "                        \n",
    "                        centroid=centroid_from_coordinates(coords)\n",
    "                        #cv2.circle(fragment_image, centroid, 3, (0, 0, 255), -1)\n",
    "                        cv2.circle(char_mask, centroid, 7, (255, 255, 255), -1)\n",
    "\n",
    "\n",
    "  "
   ]
  },
  {
   "cell_type": "code",
   "execution_count": 24,
   "metadata": {},
   "outputs": [
    {
     "data": {
      "text/plain": [
       "True"
      ]
     },
     "execution_count": 24,
     "metadata": {},
     "output_type": "execute_result"
    }
   ],
   "source": [
    "cv2.imwrite('fragment.png',fragment_image)"
   ]
  },
  {
   "cell_type": "code",
   "execution_count": 25,
   "metadata": {},
   "outputs": [
    {
     "data": {
      "text/plain": [
       "True"
      ]
     },
     "execution_count": 25,
     "metadata": {},
     "output_type": "execute_result"
    }
   ],
   "source": [
    "cv2.imwrite('char_mask.png',char_mask)"
   ]
  },
  {
   "cell_type": "code",
   "execution_count": null,
   "metadata": {},
   "outputs": [],
   "source": [
    "cv2.imwrite('line_mask.png',line_mask)"
   ]
  },
  {
   "cell_type": "code",
   "execution_count": null,
   "metadata": {},
   "outputs": [],
   "source": []
  }
 ],
 "metadata": {
  "kernelspec": {
   "display_name": "Python 3",
   "language": "python",
   "name": "python3"
  },
  "language_info": {
   "codemirror_mode": {
    "name": "ipython",
    "version": 3
   },
   "file_extension": ".py",
   "mimetype": "text/x-python",
   "name": "python",
   "nbconvert_exporter": "python",
   "pygments_lexer": "ipython3",
   "version": "3.8.6"
  }
 },
 "nbformat": 4,
 "nbformat_minor": 4
}
