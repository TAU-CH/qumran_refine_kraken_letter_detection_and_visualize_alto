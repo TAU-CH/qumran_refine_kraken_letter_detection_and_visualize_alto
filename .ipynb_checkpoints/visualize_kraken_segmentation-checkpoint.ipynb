{
 "cells": [
  {
   "cell_type": "code",
   "execution_count": 1,
   "metadata": {},
   "outputs": [],
   "source": [
    "from lxml import etree\n",
    "import cv2\n",
    "import numpy as np"
   ]
  },
  {
   "cell_type": "code",
   "execution_count": 2,
   "metadata": {},
   "outputs": [],
   "source": [
    "alto_elements = []\n",
    "xml_tree = etree.parse((\"105-Fg003-R-C01-R01-D03012012-T135030-LR924_012_F.xml_algn.xml\"))\n",
    "root = xml_tree.getroot()"
   ]
  },
  {
   "cell_type": "code",
   "execution_count": 3,
   "metadata": {},
   "outputs": [],
   "source": [
    "# Remove namespace prefixes\n",
    "for elem in root.getiterator():\n",
    "    elem.tag = etree.QName(elem).localname\n",
    "\n"
   ]
  },
  {
   "cell_type": "code",
   "execution_count": 4,
   "metadata": {},
   "outputs": [],
   "source": [
    "def xml_to_coordinates(t):\n",
    "    result = []\n",
    "    data=t.split(' ')\n",
    "    for i,k in zip(data[0::2], data[1::2]):\n",
    "        result.append((int(i),int(k)))\n",
    "    result=np.array(result)\n",
    "    return result"
   ]
  },
  {
   "cell_type": "code",
   "execution_count": 9,
   "metadata": {},
   "outputs": [],
   "source": [
    "fragment_image = cv2.imread(\"105-Fg003-R-C01-R01-D03012012-T135030-LR924_012_F.jpg\", 1)"
   ]
  },
  {
   "cell_type": "code",
   "execution_count": 10,
   "metadata": {},
   "outputs": [
    {
     "name": "stdout",
     "output_type": "stream",
     "text": [
      "1182.0\n",
      "1006.0\n",
      "1300.0\n",
      "216.0\n",
      " חת דליתו ישתו ע \n",
      " \n",
      "ח\n",
      "ת\n",
      " \n",
      "ד\n",
      "ל\n",
      "י\n",
      "ת\n",
      "ו\n",
      " \n",
      "י\n",
      "ש\n",
      "ת\n",
      "ו\n",
      " \n",
      "ע\n",
      " \n",
      "1182.0\n",
      "1170.0\n",
      "1223.0\n",
      "194.0\n",
      " שחקים ודליותו ע \n",
      " \n",
      "ש\n",
      "ח\n",
      "ק\n",
      "י\n",
      "ם\n",
      " \n",
      "ו\n",
      "ד\n",
      "ל\n",
      "י\n",
      "ו\n",
      "ת\n",
      "ו\n",
      " \n",
      "ע\n",
      " \n",
      "1262.0\n",
      "1310.0\n",
      "1150.0\n",
      "189.0\n",
      " י מרום ינובב פ \n",
      " \n",
      "י\n",
      " \n",
      "מ\n",
      "ר\n",
      "ו\n",
      "ם\n",
      " \n",
      "י\n",
      "נ\n",
      "ו\n",
      "ב\n",
      "ב\n",
      " \n",
      "פ\n",
      " \n",
      "1353.0\n",
      "1472.0\n",
      "941.0\n",
      "174.0\n",
      " שבעה בזוהר \n",
      " \n",
      "ש\n",
      "ב\n",
      "ע\n",
      "ה\n",
      " \n",
      "ב\n",
      "ז\n",
      "ו\n",
      "ה\n",
      "ר\n",
      " \n",
      "1384.0\n",
      "1633.0\n",
      "697.0\n",
      "182.0\n",
      " מי טוהר \n",
      " \n",
      "מ\n",
      "י\n",
      " \n",
      "ט\n",
      "ו\n",
      "ה\n",
      "ר\n",
      " \n",
      "1397.0\n",
      "1808.0\n",
      "443.0\n",
      "160.0\n",
      " מלקו \n",
      " \n",
      "מ\n",
      "ל\n",
      "ק\n",
      "ו\n",
      " \n"
     ]
    }
   ],
   "source": [
    "for line in root.findall(\"Layout/Page/PrintSpace/TextBlock/TextLine\"):\n",
    "    baseline=line.get(\"BASELINE\")\n",
    "    coords=xml_to_coordinates(baseline)\n",
    "    #cv2.polylines(fragment_image, [coords], False, (255, 0, 0), 3)\n",
    "    print(line.get(\"HPOS\"))\n",
    "    print(line.get(\"VPOS\"))\n",
    "    print(line.get(\"WIDTH\"))\n",
    "    print(line.get(\"HEIGHT\"))\n",
    "    for shape in line.findall(\"Shape\"):\n",
    "        for polygon in shape.findall(\"Polygon\"):\n",
    "            polygon=polygon.get(\"POINTS\")\n",
    "            coords=xml_to_coordinates(polygon)\n",
    "            #cv2.drawContours(fragment_image, [coords], -1, (255, 255, 0), 3)\n",
    "    for string in line.findall(\"String\"):\n",
    "        print(string.get(\"CONTENT\"))\n",
    "        for glyph in string.findall(\"Glyph\"):\n",
    "            print(glyph.get(\"CONTENT\"))\n",
    "            for shape in glyph.findall(\"Shape\"):\n",
    "                for polygon in shape.findall(\"Polygon\"):\n",
    "                    polygon=polygon.get(\"POINTS\")\n",
    "                    coords=xml_to_coordinates(polygon)\n",
    "                    cv2.drawContours(fragment_image, [coords], -1, (0, 0, 255), 3)\n",
    "  "
   ]
  },
  {
   "cell_type": "code",
   "execution_count": 11,
   "metadata": {},
   "outputs": [
    {
     "name": "stdout",
     "output_type": "stream",
     "text": [
      "[[1439 1810]\n",
      " [1427 1963]\n",
      " [1489 1967]\n",
      " [1501 1814]]\n"
     ]
    }
   ],
   "source": [
    "print(coords)"
   ]
  },
  {
   "cell_type": "code",
   "execution_count": 12,
   "metadata": {},
   "outputs": [
    {
     "data": {
      "text/plain": [
       "True"
      ]
     },
     "execution_count": 12,
     "metadata": {},
     "output_type": "execute_result"
    }
   ],
   "source": [
    "cv2.imwrite('dene.png',fragment_image)"
   ]
  },
  {
   "cell_type": "code",
   "execution_count": 41,
   "metadata": {},
   "outputs": [],
   "source": []
  },
  {
   "cell_type": "code",
   "execution_count": 15,
   "metadata": {},
   "outputs": [
    {
     "name": "stdout",
     "output_type": "stream",
     "text": [
      "[['1190 1127 1330 1116 1420 1102 1483 1098 1616 1120 1729 1104 2011 1134 2088 1143 2478 1161'], ['1186 1292 1267 1296 1438 1267 1722 1262 1993 1280 2182 1287 2399 1303'], ['1265 1411 1558 1402 1639 1404 2004 1434 2124 1438 2412 1438'], ['1359 1564 1438 1571 1616 1569 1903 1583 2169 1580 2291 1585'], ['1384 1725 1734 1725 1986 1749 2076 1754'], ['1402 1900 1508 1907 1840 1903']]\n"
     ]
    }
   ],
   "source": [
    "print(baselines)"
   ]
  },
  {
   "cell_type": "code",
   "execution_count": null,
   "metadata": {},
   "outputs": [],
   "source": [
    "cv2.drawContours(fragment_image, tcontours, -1, (0, 255, 0), 3)\n",
    "cv2.imwrite('dene/line'+str(textlineid)+'.png',rgb)"
   ]
  },
  {
   "cell_type": "code",
   "execution_count": null,
   "metadata": {},
   "outputs": [],
   "source": [
    "def parse_alto(alto_file):\n",
    "    alto_elements = []\n",
    "    xml_tree = etree.parse(alto_file)\n",
    "    root = xml_tree.getroot()\n",
    "\n",
    "    # Remove namespace prefixes\n",
    "    for elem in root.getiterator():\n",
    "        elem.tag = etree.QName(elem).localname\n",
    "\n",
    "    for line in root.findall(\"Layout/Page/PrintSpace/TextBlock/TextLine\"):\n",
    "        line_element = AltoElement(\n",
    "            type=\"line\",\n",
    "            bbox=BoundingBox(line),\n",
    "            element=line,\n",
    "            children=[],\n",
    "            content=line.get(\"CONTENT\"),\n",
    "        )\n",
    "        alto_elements.append(line_element)\n",
    "\n",
    "        for word in line.findall(\"String\"):\n",
    "            word_element = AltoElement(\n",
    "                type=\"word\",\n",
    "                bbox=BoundingBox(word),\n",
    "                element=word,\n",
    "                children=[],\n",
    "                content=word.get(\"CONTENT\"),\n",
    "            )\n",
    "            line_element.children.append(word_element)\n",
    "\n",
    "            for char in word.findall(\"Glyph\"):\n",
    "                char_element = AltoElement(\n",
    "                    type=\"char\",\n",
    "                    bbox=BoundingBox(char),\n",
    "                    element=char,\n",
    "                    children=[],\n",
    "                    content=char.get(\"CONTENT\"),\n",
    "                )\n",
    "                word_element.children.append(char_element)\n",
    "\n",
    "    return alto_elements"
   ]
  },
  {
   "cell_type": "code",
   "execution_count": null,
   "metadata": {},
   "outputs": [],
   "source": [
    "    for shape in line.findall(\"Shape\"):\n",
    "        for polygon in shape.findall(\"Polygon\"):\n",
    "            polygon=polygon.get(\"POINTS\")\n",
    "            coords=xml_to_coordinates(polygon)\n",
    "            #cv2.drawContours(fragment_image, [coords], -1, (255, 255, 0), 3)\n",
    "            cv2.fillConvexPoly(line_mask, np.array(coords, 'int32'), 255)"
   ]
  }
 ],
 "metadata": {
  "kernelspec": {
   "display_name": "Python 3",
   "language": "python",
   "name": "python3"
  },
  "language_info": {
   "codemirror_mode": {
    "name": "ipython",
    "version": 3
   },
   "file_extension": ".py",
   "mimetype": "text/x-python",
   "name": "python",
   "nbconvert_exporter": "python",
   "pygments_lexer": "ipython3",
   "version": "3.8.6"
  }
 },
 "nbformat": 4,
 "nbformat_minor": 4
}
